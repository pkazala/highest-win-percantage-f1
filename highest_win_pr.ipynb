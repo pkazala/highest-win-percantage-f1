{
 "cells": [
  {
   "cell_type": "code",
   "execution_count": 1,
   "id": "2577c4c7-5a0a-4830-9e14-078e59f4ad3e",
   "metadata": {},
   "outputs": [],
   "source": [
    "import pandas as pd\n",
    "import seaborn\n",
    "import numpy as np\n",
    "import matplotlib.pyplot as plt"
   ]
  },
  {
   "cell_type": "code",
   "execution_count": 2,
   "id": "0ede7136-5455-41dd-bf0d-179061a5c4c8",
   "metadata": {},
   "outputs": [
    {
     "name": "stdout",
     "output_type": "stream",
     "text": [
      "            Driver  Year  Points  Team_Points\n",
      "0   Lewis Hamilton  2021   387.5        613.5\n",
      "1   Max Verstappen  2021   395.5        585.5\n",
      "2  Valtteri Bottas  2021   226.0        613.5\n",
      "3     Sergio Perez  2021   190.0        585.5\n",
      "4  Charles Leclerc  2021   159.0        323.5\n"
     ]
    }
   ],
   "source": [
    "df = pd.read_csv('2021DriversDB.csv')\n",
    "\n",
    "print(df.head())"
   ]
  },
  {
   "cell_type": "code",
   "execution_count": 3,
   "id": "0651210b-ffaf-4e02-8b97-7272725dda0f",
   "metadata": {},
   "outputs": [
    {
     "name": "stdout",
     "output_type": "stream",
     "text": [
      "<class 'pandas.core.frame.DataFrame'>\n",
      "RangeIndex: 141 entries, 0 to 140\n",
      "Data columns (total 4 columns):\n",
      " #   Column       Non-Null Count  Dtype  \n",
      "---  ------       --------------  -----  \n",
      " 0   Driver       141 non-null    object \n",
      " 1   Year         141 non-null    int64  \n",
      " 2   Points       137 non-null    float64\n",
      " 3   Team_Points  137 non-null    float64\n",
      "dtypes: float64(2), int64(1), object(1)\n",
      "memory usage: 4.5+ KB\n"
     ]
    }
   ],
   "source": [
    "df.info()\n",
    "\n",
    "df.dropna(inplace = True)"
   ]
  },
  {
   "cell_type": "code",
   "execution_count": 4,
   "id": "9597e2c8-7dff-425d-b297-bff2a47714fd",
   "metadata": {},
   "outputs": [
    {
     "name": "stdout",
     "output_type": "stream",
     "text": [
      "[0.6316218418907905, 0.6754910333048676, 0.36837815810920943, 0.32450896669513235, 0.49149922720247297, 0.508500772797527, 0.5818181818181818, 0.41818181818181815, 0.7746478873239436, 0.22535211267605634, 0.5225806451612903, 0.4774193548387097, 0.5584415584415584, 0.44155844155844154, 0.6956521739130435, 0.30434782608695654, 0.7692307692307693, 0.23076923076923078, 0.6055846422338569, 0.670846394984326, 0.38917975567190227, 0.625, 0.7480916030534351, 0.5198019801980198, 0.4801980198019802, 0.6574585635359116, 0.7009345794392523, 0.3425414364640884, 0.25190839694656486, 0.375, 0.5, 0.5, 0.5588633288227334, 0.6666666666666666, 0.44113667117726657, 0.7123287671232876, 0.5238095238095238, 0.6620689655172414, 0.33793103448275863, 0.5934065934065934, 0.2581967213114754, 0.7619047619047619, 0.47619047619047616, 0.2876712328767123, 0.7543859649122807, 0.24561403508771928, 0.6229007633587786, 0.594272076372315, 0.37709923664122136, 0.5585585585585585, 0.8125, 0.4344262295081967, 0.40572792362768495, 0.8787878787878788, 0.5604203152364273, 0.8571428571428571, 0.4395796847635727, 0.44144144144144143, 0.8064516129032258, 0.5434131736526946, 0.45652173913043476, 0.4565868263473054, 0.5347593582887701, 0.5567010309278351, 0.5434782608695652, 0.60727969348659, 0.4819277108433735, 0.39272030651340994, 0.46524064171123, 0.5666666666666667, 0.49673202614379086, 0.4811320754716981, 0.7647058823529411, 0.6159420289855072, 0.5838150289017341, 0.7301587301587301, 0.5470085470085471, 0.5326633165829145, 0.46733668341708545, 0.72, 0.5419630156472262, 0.7313432835820896, 0.5291828793774319, 0.5735294117647058, 0.26865671641791045, 0.4919786096256685, 0.6495327102803738, 0.35046728971962615, 0.4074074074074074, 0.5477888730385164, 0.58125, 0.38064516129032255, 0.5876543209876544, 0.4123456790123457, 0.25462962962962965, 0.6836158192090396, 0.525, 0.8, 0.4016393442622951, 0.6060606060606061, 0.6661073825503355, 0.6836158192090396, 0.580952380952381, 0.5026455026455027, 0.5238095238095238, 0.38461538461538464, 0.6108695652173913, 0.6831683168316832, 0.695, 0.4567404426559356, 0.3181818181818182, 0.6030769230769231, 0.6853333333333333, 0.5286343612334802, 0.5140562248995983, 0.6363636363636364, 0.6901408450704225, 0.5472312703583062, 0.6857142857142857, 0.6490066225165563, 0.8974358974358975, 0.7625, 0.436046511627907, 0.5, 0.6666666666666666, 0.5, 0.5392156862745098, 0.6504854368932039, 0.5909090909090909, 0.6963350785340314, 0.6153846153846154, 0.5619047619047619, 0.6521739130434783, 0.625, 0.6408450704225352, 0.36923076923076925, 0.42857142857142855]\n"
     ]
    }
   ],
   "source": [
    "winper = []\n",
    "\n",
    "for i in df.index:\n",
    "    temp = df.loc[i, 'Points'] / df.loc[i, 'Team_Points']\n",
    "    winper.append(temp)\n",
    "    \n",
    "print(winper)"
   ]
  },
  {
   "cell_type": "code",
   "execution_count": 5,
   "id": "9e31aa96-2a58-4205-a0a8-fcdbd617191b",
   "metadata": {},
   "outputs": [
    {
     "name": "stdout",
     "output_type": "stream",
     "text": [
      "            Driver  Year  Points  Team_Points  Team_points_share\n",
      "0   Lewis Hamilton  2021   387.5        613.5           0.631622\n",
      "1   Max Verstappen  2021   395.5        585.5           0.675491\n",
      "2  Valtteri Bottas  2021   226.0        613.5           0.368378\n",
      "3     Sergio Perez  2021   190.0        585.5           0.324509\n",
      "4  Charles Leclerc  2021   159.0        323.5           0.491499\n"
     ]
    }
   ],
   "source": [
    "df['Team_points_share'] = winper\n",
    "\n",
    "print(df.head())"
   ]
  },
  {
   "cell_type": "code",
   "execution_count": 6,
   "id": "554973fc-9f25-42aa-999e-7fe144b1b7c0",
   "metadata": {},
   "outputs": [
    {
     "data": {
      "image/png": "[encoded data removed]",
      "text/plain": [
       "<Figure size 432x288 with 1 Axes>"
      ]
     },
     "metadata": {
      "needs_background": "light"
     },
     "output_type": "display_data"
    }
   ],
   "source": [
    "df.plot(kind = 'scatter', x = 'Points', y = 'Team_points_share')\n",
    "\n",
    "plt.show()"
   ]
  },
  {
   "cell_type": "code",
   "execution_count": 7,
   "id": "27de4302-27db-48c2-a402-94d0eacf2d54",
   "metadata": {},
   "outputs": [
    {
     "name": "stdout",
     "output_type": "stream",
     "text": [
      "                Driver  Year  Points  Team_Points  Team_points_share\n",
      "9         Yuki Tsunoda  2021    32.0        142.0           0.225352\n",
      "17  Antonio Giovinazzi  2021     3.0         13.0           0.230769\n",
      "48  Antonio Giovinazzi  2019    14.0         57.0           0.245614\n",
      "28    Sebastian Vettel  2020    33.0        131.0           0.251908\n",
      "97      Kimi Räikkönen  2014    55.0        216.0           0.254630\n",
      "               Driver  Year  Points  Team_Points  Team_points_share\n",
      "124  Sebastian Vettel  2008    35.0         39.0           0.897436\n",
      "56       Pierre Gasly  2018    29.0         33.0           0.878788\n",
      "58       Lance Stroll  2018     6.0          7.0           0.857143\n",
      "53    Charles Leclerc  2018    39.0         48.0           0.812500\n",
      "61    Fernando Alonso  2018    50.0         62.0           0.806452\n"
     ]
    }
   ],
   "source": [
    "newdf = df.sort_values(by='Team_points_share')\n",
    "\n",
    "print(newdf.head())\n",
    "\n",
    "newdf = df.sort_values(by='Team_points_share', ascending=False)\n",
    "\n",
    "print(newdf.head())"
   ]
  },
  {
   "cell_type": "code",
   "execution_count": 8,
   "id": "62f90424-1a2f-4b9a-a1ce-8c5305161713",
   "metadata": {},
   "outputs": [
    {
     "data": {
      "image/png": "[encoded data removed]",
      "text/plain": [
       "<Figure size 432x288 with 1 Axes>"
      ]
     },
     "metadata": {
      "needs_background": "light"
     },
     "output_type": "display_data"
    }
   ],
   "source": [
    "df.plot(kind = 'scatter', x = 'Team_Points', y = 'Team_points_share')\n",
    "\n",
    "plt.show()"
   ]
  },
  {
   "cell_type": "code",
   "execution_count": 9,
   "id": "343086d8-9336-4cae-89d9-0977cca0c2c5",
   "metadata": {},
   "outputs": [],
   "source": [
    "final = pd.DataFrame(columns=['Driver', 'Team_points_share_across_career', 'Seasons_raced'])\n",
    "drivers = []"
   ]
  },
  {
   "cell_type": "code",
   "execution_count": 10,
   "id": "4ebf35dd-4589-43e1-8c35-8d72b7385b70",
   "metadata": {},
   "outputs": [],
   "source": [
    "for i in df.index:\n",
    "    if(df.loc[i, 'Driver'] not in drivers):\n",
    "        drivers.append(df.loc[i, 'Driver'])"
   ]
  },
  {
   "cell_type": "code",
   "execution_count": 11,
   "id": "b64fd052-0885-4d54-85c8-f102461fc4da",
   "metadata": {},
   "outputs": [
    {
     "name": "stdout",
     "output_type": "stream",
     "text": [
      "['Lewis Hamilton', 'Max Verstappen', 'Valtteri Bottas', 'Sergio Perez', 'Charles Leclerc', 'Carlos Sainz', 'Lando Norris', 'Daniel Ricciardo', 'Pierre Gasly', 'Yuki Tsunoda', 'Fernando Alonso', 'Esteban Ocon', 'Sebastian Vettel', 'Lance Stroll', 'George Russell', 'Nicholas Latifi', 'Kimi Räikkönen', 'Antonio Giovinazzi']\n"
     ]
    }
   ],
   "source": [
    "print(drivers)\n",
    "final['Driver'] = drivers\n",
    "final['Team_points_share_across_career'] = [0,0,0,0,0,0,0,0,0,0,0,0,0,0,0,0,0,0]\n",
    "final['Seasons_raced'] = [0,0,0,0,0,0,0,0,0,0,0,0,0,0,0,0,0,0]"
   ]
  },
  {
   "cell_type": "code",
   "execution_count": 13,
   "id": "60c9b217-938c-4254-88ad-b82360ede9e9",
   "metadata": {},
   "outputs": [],
   "source": [
    "for x in final.index:\n",
    "    for i in df.index:\n",
    "        if(final.loc[x, 'Driver'] == df.loc[i, 'Driver']):\n",
    "            temp = df.loc[i, 'Team_points_share']\n",
    "            final.loc[x, 'Team_points_share_across_career'] = final.loc[x, 'Team_points_share_across_career'] + temp\n",
    "            final.loc[x, 'Seasons_raced'] = final.loc[x, 'Seasons_raced'] + 1"
   ]
  },
  {
   "cell_type": "code",
   "execution_count": 14,
   "id": "f521df5a-0f72-4232-97a9-a7039a3f51e2",
   "metadata": {},
   "outputs": [
    {
     "data": {
      "text/html": [
       "<div>\n",
       "<style scoped>\n",
       "    .dataframe tbody tr th:only-of-type {\n",
       "        vertical-align: middle;\n",
       "    }\n",
       "\n",
       "    .dataframe tbody tr th {\n",
       "        vertical-align: top;\n",
       "    }\n",
       "\n",
       "    .dataframe thead th {\n",
       "        text-align: right;\n",
       "    }\n",
       "</style>\n",
       "<table border=\"1\" class=\"dataframe\">\n",
       "  <thead>\n",
       "    <tr style=\"text-align: right;\">\n",
       "      <th></th>\n",
       "      <th>Driver</th>\n",
       "      <th>Team_points_share_across_career</th>\n",
       "      <th>Seasons_raced</th>\n",
       "    </tr>\n",
       "  </thead>\n",
       "  <tbody>\n",
       "    <tr>\n",
       "      <th>0</th>\n",
       "      <td>Lewis Hamilton</td>\n",
       "      <td>8.401035</td>\n",
       "      <td>15</td>\n",
       "    </tr>\n",
       "    <tr>\n",
       "      <th>1</th>\n",
       "      <td>Max Verstappen</td>\n",
       "      <td>5.040979</td>\n",
       "      <td>8</td>\n",
       "    </tr>\n",
       "    <tr>\n",
       "      <th>2</th>\n",
       "      <td>Valtteri Bottas</td>\n",
       "      <td>4.558756</td>\n",
       "      <td>9</td>\n",
       "    </tr>\n",
       "    <tr>\n",
       "      <th>3</th>\n",
       "      <td>Sergio Perez</td>\n",
       "      <td>5.536776</td>\n",
       "      <td>11</td>\n",
       "    </tr>\n",
       "    <tr>\n",
       "      <th>4</th>\n",
       "      <td>Charles Leclerc</td>\n",
       "      <td>2.575900</td>\n",
       "      <td>4</td>\n",
       "    </tr>\n",
       "  </tbody>\n",
       "</table>\n",
       "</div>"
      ],
      "text/plain": [
       "            Driver  Team_points_share_across_career  Seasons_raced\n",
       "0   Lewis Hamilton                         8.401035             15\n",
       "1   Max Verstappen                         5.040979              8\n",
       "2  Valtteri Bottas                         4.558756              9\n",
       "3     Sergio Perez                         5.536776             11\n",
       "4  Charles Leclerc                         2.575900              4"
      ]
     },
     "execution_count": 14,
     "metadata": {},
     "output_type": "execute_result"
    }
   ],
   "source": [
    "final.head()"
   ]
  },
  {
   "cell_type": "code",
   "execution_count": 16,
   "id": "5572736b-b10b-4ca1-8286-c0068bf20f19",
   "metadata": {},
   "outputs": [],
   "source": [
    "for x in final.index:\n",
    "    final.loc[x, 'Team_points_share_across_career'] = final.loc[x, 'Team_points_share_across_career'] / final.loc[x, 'Seasons_raced']"
   ]
  },
  {
   "cell_type": "code",
   "execution_count": 17,
   "id": "0a7db0b0-390c-48b2-963c-a06e3710522a",
   "metadata": {},
   "outputs": [
    {
     "name": "stdout",
     "output_type": "stream",
     "text": [
      "                Driver  Team_points_share_across_career  Seasons_raced\n",
      "0       Lewis Hamilton                         0.560069             15\n",
      "1       Max Verstappen                         0.630122              8\n",
      "2      Valtteri Bottas                         0.506528              9\n",
      "3         Sergio Perez                         0.503343             11\n",
      "4      Charles Leclerc                         0.643975              4\n",
      "5         Carlos Sainz                         0.525759              7\n",
      "6         Lando Norris                         0.466649              3\n",
      "7     Daniel Ricciardo                         0.523557             10\n",
      "8         Pierre Gasly                         0.674894              5\n",
      "9         Yuki Tsunoda                         0.225352              1\n",
      "10     Fernando Alonso                         0.637704             16\n",
      "11        Esteban Ocon                         0.431661              4\n",
      "12    Sebastian Vettel                         0.570282             15\n",
      "13        Lance Stroll                         0.488660              5\n",
      "14      George Russell                         0.695652              1\n",
      "15     Nicholas Latifi                         0.304348              1\n",
      "16      Kimi Räikkönen                         0.534240             19\n",
      "17  Antonio Giovinazzi                         0.325461              3\n"
     ]
    }
   ],
   "source": [
    "print(final)"
   ]
  },
  {
   "cell_type": "code",
   "execution_count": 21,
   "id": "ff11fa4f-998a-4f9c-bad3-4c96be1e23f0",
   "metadata": {},
   "outputs": [
    {
     "data": {
      "text/html": [
       "<div>\n",
       "<style scoped>\n",
       "    .dataframe tbody tr th:only-of-type {\n",
       "        vertical-align: middle;\n",
       "    }\n",
       "\n",
       "    .dataframe tbody tr th {\n",
       "        vertical-align: top;\n",
       "    }\n",
       "\n",
       "    .dataframe thead th {\n",
       "        text-align: right;\n",
       "    }\n",
       "</style>\n",
       "<table border=\"1\" class=\"dataframe\">\n",
       "  <thead>\n",
       "    <tr style=\"text-align: right;\">\n",
       "      <th></th>\n",
       "      <th>Driver</th>\n",
       "      <th>Team_points_share_across_career</th>\n",
       "      <th>Seasons_raced</th>\n",
       "    </tr>\n",
       "  </thead>\n",
       "  <tbody>\n",
       "    <tr>\n",
       "      <th>14</th>\n",
       "      <td>George Russell</td>\n",
       "      <td>0.695652</td>\n",
       "      <td>1</td>\n",
       "    </tr>\n",
       "    <tr>\n",
       "      <th>8</th>\n",
       "      <td>Pierre Gasly</td>\n",
       "      <td>0.674894</td>\n",
       "      <td>5</td>\n",
       "    </tr>\n",
       "    <tr>\n",
       "      <th>4</th>\n",
       "      <td>Charles Leclerc</td>\n",
       "      <td>0.643975</td>\n",
       "      <td>4</td>\n",
       "    </tr>\n",
       "    <tr>\n",
       "      <th>10</th>\n",
       "      <td>Fernando Alonso</td>\n",
       "      <td>0.637704</td>\n",
       "      <td>16</td>\n",
       "    </tr>\n",
       "    <tr>\n",
       "      <th>1</th>\n",
       "      <td>Max Verstappen</td>\n",
       "      <td>0.630122</td>\n",
       "      <td>8</td>\n",
       "    </tr>\n",
       "    <tr>\n",
       "      <th>12</th>\n",
       "      <td>Sebastian Vettel</td>\n",
       "      <td>0.570282</td>\n",
       "      <td>15</td>\n",
       "    </tr>\n",
       "    <tr>\n",
       "      <th>0</th>\n",
       "      <td>Lewis Hamilton</td>\n",
       "      <td>0.560069</td>\n",
       "      <td>15</td>\n",
       "    </tr>\n",
       "    <tr>\n",
       "      <th>16</th>\n",
       "      <td>Kimi Räikkönen</td>\n",
       "      <td>0.534240</td>\n",
       "      <td>19</td>\n",
       "    </tr>\n",
       "    <tr>\n",
       "      <th>5</th>\n",
       "      <td>Carlos Sainz</td>\n",
       "      <td>0.525759</td>\n",
       "      <td>7</td>\n",
       "    </tr>\n",
       "    <tr>\n",
       "      <th>7</th>\n",
       "      <td>Daniel Ricciardo</td>\n",
       "      <td>0.523557</td>\n",
       "      <td>10</td>\n",
       "    </tr>\n",
       "    <tr>\n",
       "      <th>2</th>\n",
       "      <td>Valtteri Bottas</td>\n",
       "      <td>0.506528</td>\n",
       "      <td>9</td>\n",
       "    </tr>\n",
       "    <tr>\n",
       "      <th>3</th>\n",
       "      <td>Sergio Perez</td>\n",
       "      <td>0.503343</td>\n",
       "      <td>11</td>\n",
       "    </tr>\n",
       "    <tr>\n",
       "      <th>13</th>\n",
       "      <td>Lance Stroll</td>\n",
       "      <td>0.488660</td>\n",
       "      <td>5</td>\n",
       "    </tr>\n",
       "    <tr>\n",
       "      <th>6</th>\n",
       "      <td>Lando Norris</td>\n",
       "      <td>0.466649</td>\n",
       "      <td>3</td>\n",
       "    </tr>\n",
       "    <tr>\n",
       "      <th>11</th>\n",
       "      <td>Esteban Ocon</td>\n",
       "      <td>0.431661</td>\n",
       "      <td>4</td>\n",
       "    </tr>\n",
       "    <tr>\n",
       "      <th>17</th>\n",
       "      <td>Antonio Giovinazzi</td>\n",
       "      <td>0.325461</td>\n",
       "      <td>3</td>\n",
       "    </tr>\n",
       "    <tr>\n",
       "      <th>15</th>\n",
       "      <td>Nicholas Latifi</td>\n",
       "      <td>0.304348</td>\n",
       "      <td>1</td>\n",
       "    </tr>\n",
       "    <tr>\n",
       "      <th>9</th>\n",
       "      <td>Yuki Tsunoda</td>\n",
       "      <td>0.225352</td>\n",
       "      <td>1</td>\n",
       "    </tr>\n",
       "  </tbody>\n",
       "</table>\n",
       "</div>"
      ],
      "text/plain": [
       "                Driver  Team_points_share_across_career  Seasons_raced\n",
       "14      George Russell                         0.695652              1\n",
       "8         Pierre Gasly                         0.674894              5\n",
       "4      Charles Leclerc                         0.643975              4\n",
       "10     Fernando Alonso                         0.637704             16\n",
       "1       Max Verstappen                         0.630122              8\n",
       "12    Sebastian Vettel                         0.570282             15\n",
       "0       Lewis Hamilton                         0.560069             15\n",
       "16      Kimi Räikkönen                         0.534240             19\n",
       "5         Carlos Sainz                         0.525759              7\n",
       "7     Daniel Ricciardo                         0.523557             10\n",
       "2      Valtteri Bottas                         0.506528              9\n",
       "3         Sergio Perez                         0.503343             11\n",
       "13        Lance Stroll                         0.488660              5\n",
       "6         Lando Norris                         0.466649              3\n",
       "11        Esteban Ocon                         0.431661              4\n",
       "17  Antonio Giovinazzi                         0.325461              3\n",
       "15     Nicholas Latifi                         0.304348              1\n",
       "9         Yuki Tsunoda                         0.225352              1"
      ]
     },
     "execution_count": 21,
     "metadata": {},
     "output_type": "execute_result"
    }
   ],
   "source": [
    "final.sort_values(by='Team_points_share_across_career', ascending=False)"
   ]
  },
  {
   "cell_type": "code",
   "execution_count": null,
   "id": "d626c35a-d1a1-4dcc-8c6b-953246c680ff",
   "metadata": {},
   "outputs": [],
   "source": []
  }
 ],
 "metadata": {
  "kernelspec": {
   "display_name": "Python 3",
   "language": "python",
   "name": "python3"
  },
  "language_info": {
   "codemirror_mode": {
    "name": "ipython",
    "version": 3
   },
   "file_extension": ".py",
   "mimetype": "text/x-python",
   "name": "python",
   "nbconvert_exporter": "python",
   "pygments_lexer": "ipython3",
   "version": "3.9.1"
  }
 },
 "nbformat": 4,
 "nbformat_minor": 5
}
